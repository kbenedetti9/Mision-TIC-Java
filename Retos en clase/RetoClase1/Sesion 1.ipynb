{
  "nbformat": 4,
  "nbformat_minor": 0,
  "metadata": {
    "colab": {
      "name": "Sesion1__1_ (1).ipynb",
      "provenance": [],
      "toc_visible": true
    },
    "kernelspec": {
      "display_name": "Java",
      "language": "java",
      "name": "java"
    },
    "language_info": {
      "codemirror_mode": "java",
      "file_extension": ".jshell",
      "mimetype": "text/x-java-source",
      "name": "Java",
      "pygments_lexer": "java",
      "version": "11.0.8+10-LTS"
    }
  },
  "cells": [
    {
      "cell_type": "markdown",
      "metadata": {
        "id": "Fs6xTWUIk2-l",
        "outputId": "edc21c56-da32-4d39-ffc0-06fa8fe8ea75"
      },
      "source": [
        "# Introducción a Java\n",
        "\n",
        "Estos Notebooks fueron creados por profesores y diseñadores instruccionales de la Universidad del Norte, en Barranquilla - Colombia.\n",
        "\n",
        "Todos estos materiales cuentan con una licencia <b>Creative Commons</b> de libre uso con atribución.\n",
        "\n",
        "<b>Bienvenido al ciclo 2 - Introducción a Java!</b> \n",
        "\n",
        "## Java y Jupyter\n",
        "\n",
        "Recordemos que Jupyter es un editor de texto y código que nos permite integrar elementos Python en una página web, esta información es compilada en un archivo conocido como NoteBook (NB). Jupyter está por defecto conectado al Kernel de Python y por eso permite ejecutar su código sin problema.\n",
        "\n",
        "Para trabajar Java dentro de los jupyter notebooks, debemos instalar el kernel de Java. Está solución se conoce como IJava. En el caso de Google Colab, no podemos instalar kernels adicionales permanentemente por lo que requerimos hacerlos durante la ejecución de cada notebook.\n",
        "\n",
        "## Ejecución de Java dentro de Google Colab\n",
        "Documentar código en Java se hace con /*texto a documentar */ o // Cuando vamos a documentar una sola línea.\n",
        "\n",
        "El siguiente código debe ejecutarse en Google Colab y es necesario REFRESCAR LA PÁGINA despues de ejecutar. Para que los cambios se tengan en cuenta. Quita la documentación para ejecutar.\n"
      ]
    },
    {
      "cell_type": "code",
      "metadata": {
        "id": "vO4Qp6UhUztz"
      },
      "source": [
        "!wget https://github.com/SpencerPark/IJava/releases/download/v1.3.0/ijava-1.3.0.zip\n",
        "!unzip ijava-1.3.0.zip\n",
        "!python install.py --sys-prefix"
      ],
      "execution_count": null,
      "outputs": []
    },
    {
      "cell_type": "markdown",
      "metadata": {
        "id": "6uFlYGBLk2-2"
      },
      "source": [
        "## Introducción\n",
        "Comencemos por lo más sencillo... Vamos a imprimir algo usando código Java."
      ]
    },
    {
      "cell_type": "code",
      "metadata": {
        "id": "Qsxne6SxUzuN",
        "outputId": "bfe83cab-f01f-478f-90d9-cd19f45948b6",
        "colab": {
          "base_uri": "https://localhost:8080/",
          "height": 35
        }
      },
      "source": [
        "System.out.print(\"Hola mundo\");"
      ],
      "execution_count": null,
      "outputs": [
        {
          "output_type": "stream",
          "text": [
            "Hola mundo"
          ],
          "name": "stdout"
        }
      ]
    },
    {
      "cell_type": "markdown",
      "metadata": {
        "id": "0P4pXpgwUzuo"
      },
      "source": [
        "Java cuenta con dos métodos para imprimir; print() y println(). Para ver la diferencia entre los dos debemos explorar la impresión de múltiples líneas."
      ]
    },
    {
      "cell_type": "code",
      "metadata": {
        "id": "yRHv8xWWUzuq",
        "outputId": "cd53dc98-8a6e-4e67-868c-9ba965ff44ed",
        "colab": {
          "base_uri": "https://localhost:8080/",
          "height": 35
        }
      },
      "source": [
        "System.out.print(\"Hola mundo\");\n",
        "System.out.print(\"Esta es una prueba\");"
      ],
      "execution_count": null,
      "outputs": [
        {
          "output_type": "stream",
          "text": [
            "Hola mundoEsta es una prueba"
          ],
          "name": "stdout"
        }
      ]
    },
    {
      "cell_type": "code",
      "metadata": {
        "id": "X9mhHHo9Uzu2",
        "outputId": "618195bf-6d01-44c2-b79b-6e52d661a16f",
        "colab": {
          "base_uri": "https://localhost:8080/",
          "height": 54
        }
      },
      "source": [
        "System.out.println(\"Hola mundo con println\");\n",
        "System.out.println(\"Esta es una prueba con println\");"
      ],
      "execution_count": null,
      "outputs": [
        {
          "output_type": "stream",
          "text": [
            "Hola mundo con println\n",
            "Esta es una prueba con println\n"
          ],
          "name": "stdout"
        }
      ]
    },
    {
      "cell_type": "markdown",
      "metadata": {
        "id": "WE5XbRVPUzvD"
      },
      "source": [
        "Como puedes ver, println(), incluye la impresión de una línea adicional para que cualquier texto a imprimir después sea impreso en una línea adicional.\n",
        "\n",
        "A diferencia, print() imprimirá texto adicional, en el mismo punto en el que terminó la impresión anterior.\n",
        "\n",
        "## Variables\n",
        "\n",
        "En Java, tanto las variables como el tipo de dato deben definirse antes de ser invocados. Estos son los más utilizados\n",
        "\n",
        "\n",
        "    String - almacena texto. Las variables String deben estar definidas con comilla doble\n",
        "    int - almacena números enteros; sin decimales.\n",
        "    float - almacena números reales como 1.23 or -1.45\n",
        "    char - almacena caracteres,como 'a' o 'A'. Los valores char están definidoes con comilla simple.\n",
        "    boolean - almacena dos posibles valores False (Falso) o True (Verdadero) \n",
        "\n",
        "Veamos un ejemplo en el que definimos la variable nombre con el valor Pepe y la imprimimos junto con Hola.  "
      ]
    },
    {
      "cell_type": "code",
      "metadata": {
        "id": "thZ7JuCnUzvF",
        "outputId": "f443eab1-55cb-4945-c254-af212da4985a"
      },
      "source": [
        "String nombre = \"Pepe\";\n",
        "    \n",
        "System.out.println(\"Hola \" + nombre);"
      ],
      "execution_count": null,
      "outputs": [
        {
          "output_type": "stream",
          "text": [
            "Hola Pepe\n"
          ],
          "name": "stdout"
        }
      ]
    },
    {
      "cell_type": "markdown",
      "metadata": {
        "id": "Obp_KaMsUzvS"
      },
      "source": [
        "La operación de escritura se realiza con la clase Scanner. Veamos su funcionamiento "
      ]
    },
    {
      "cell_type": "code",
      "metadata": {
        "id": "0-YSr4dwUzvW"
      },
      "source": [
        "import java.util.Scanner;  // Importa la clase Scanner\n",
        "\n",
        "Scanner lector = new Scanner(System.in);\n",
        "\n",
        "System.out.println(\"Ingresa tu nombre:\");\n",
        "\n",
        "String nombrePersona = lector.nextLine();\n",
        "\n",
        "System.out.println(\"Hola \" + nombrePersona+ \" Cuantos años tienes?\");\n",
        "\n",
        "int edad = lector.nextInt();\n",
        "\n",
        "System.out.println(nombrePersona+ \" tiene \" + edad + \" años\");\n",
        "\n"
      ],
      "execution_count": null,
      "outputs": []
    },
    {
      "cell_type": "markdown",
      "metadata": {
        "id": "keAlNzU7Uzve"
      },
      "source": [
        "### Actividad 1\n",
        "Vamos ahora a leer dos valores enteros e imprimir la suma. \n",
        "\n",
        "Inicio\n",
        "\n",
        "    leer valor_uno\n",
        "    leer valor_dos\n",
        "\n",
        "    total =  valor_uno + valor_dos\n",
        "    \n",
        "    imprimir total\n",
        "Fin"
      ]
    },
    {
      "cell_type": "code",
      "metadata": {
        "id": "SVKHIFD_Uzvh",
        "outputId": "adbb6155-3058-45d7-9254-0bf669aa55ff",
        "colab": {
          "base_uri": "https://localhost:8080/",
          "height": 104
        }
      },
      "source": [
        "Scanner lector = new Scanner(System.in);\n",
        "System.out.println(\"Ingresa un numero:\");\n",
        "int num1 = lector.nextInt();\n",
        "System.out.println(\"Ingresa un numero:\");\n",
        "int num2 = lector.nextInt();\n",
        "int total;\n",
        "\n",
        "total = num1+num2;\n",
        "\n",
        "System.out.println(\"El total es \" + total);"
      ],
      "execution_count": null,
      "outputs": [
        {
          "output_type": "stream",
          "text": [
            "Ingresa un numero:\n",
            "2\n",
            "Ingresa un numero:\n",
            "2\n",
            "El total es 4\n"
          ],
          "name": "stdout"
        }
      ]
    },
    {
      "cell_type": "markdown",
      "metadata": {
        "id": "H-EvzREJUzv2"
      },
      "source": [
        "## Operadores Aritméticos\n",
        "Ahora revisemos los operadores aritméticos y su sintáxis en Java.\n",
        "\n",
        "<table>\n",
        "<thead><tr>\n",
        "<th>Operador</th>\n",
        "<th>Nombre</th>\n",
        "<th>Descripción</th>\n",
        "</tr>\n",
        "</thead>\n",
        "<tbody>\n",
        "<tr>\n",
        "<td><code>a + b</code></td>\n",
        "<td>Suma</td>\n",
        "<td>Suma de <code>a</code> y <code>b</code></td>\n",
        "</tr>\n",
        "<tr>\n",
        "<td><code>a - b</code></td>\n",
        "<td>Resta</td>\n",
        "<td>Diferencia entra <code>a</code> y <code>b</code></td>\n",
        "</tr>\n",
        "<tr>\n",
        "<td><code>a * b</code></td>\n",
        "<td>Multiplicación</td>\n",
        "<td>Multiplicación de <code>a</code> y <code>b</code></td>\n",
        "</tr>\n",
        "<tr>\n",
        "<td><code>a / b</code></td>\n",
        "<td>División real</td>\n",
        "<td>Resultado de <code>a</code> dividido <code>b</code></td>\n",
        "</tr>\n",
        "<tr>\n",
        "<td><code>a % b</code></td>\n",
        "<td>Modulo</td>\n",
        "<td>Residuo de la división entre <code>a</code> y <code>b</code></td>\n",
        "</tr>\n",
        "<tr>\n",
        "<td><code>a++</code> o <code>++a</code></td>\n",
        "<td>Incremento</td>\n",
        "<td> Incrementa el valor de <code>a</code> a a+1. Si el operador aritmético se incluye antes de la variable, la operación es aplicado antes de que se evalúe la expresión. Sino se realiza después. </td>\n",
        "</tr>\n",
        "<tr>\n",
        "<td><code>a--</code> o <code>--a</code></td>\n",
        "<td>Decremento</td>\n",
        "<td>Decrementa el valor de <code>a</code> a a-1. Si el operador aritmético se incluye antes de la variable, la operación es aplicado antes de que se evalúe la expresión. Sino se realiza después.</td>\n",
        "</tr>\n",
        "</tbody></table>\n",
        "\n",
        "Veamos los operadores aritméticos en funcionamiento. En la próxima sesión exploraremos los de incremento y decremento."
      ]
    },
    {
      "cell_type": "code",
      "metadata": {
        "id": "lbf7rXnnUzv7",
        "outputId": "c39f3ef7-90d6-4142-d20a-163423c05ac7"
      },
      "source": [
        "int a = 12;\n",
        "int b = 4;\n",
        "\n",
        "System.out.println(a-b);\n",
        "System.out.println(a/b);\n",
        "\n",
        "System.out.println(a*4/b);"
      ],
      "execution_count": null,
      "outputs": [
        {
          "output_type": "stream",
          "text": [
            "8\n",
            "3\n",
            "12\n"
          ],
          "name": "stdout"
        }
      ]
    },
    {
      "cell_type": "markdown",
      "metadata": {
        "id": "YDr_AtgvUzwH"
      },
      "source": [
        "### Actividad 2\n",
        "\n",
        "La formula general para calcular el área de un cuadrado es (base* altura)/2. \n",
        "\n",
        "Escribe un programa para leer la base y la altura de un triángulo e imprime su área."
      ]
    },
    {
      "cell_type": "code",
      "metadata": {
        "id": "tfRUEsiFUzwJ",
        "outputId": "b0a8c6f3-240f-4e44-e239-a1a9011849ee",
        "colab": {
          "base_uri": "https://localhost:8080/",
          "height": 131
        }
      },
      "source": [
        "Scanner lector = new Scanner(System.in);\n",
        "\n",
        "System.out.println(\"Ingresa la base:\");\n",
        "float base = lector.nextFloat();\n",
        "\n",
        "System.out.println(\"Ingrese la altura: \");\n",
        "float altura = lector.nextFloat();\n",
        "\n",
        "float area = (base * altura)/2;\n",
        "\n",
        "System.out.println(\"area igual a: \"+area);"
      ],
      "execution_count": 1,
      "outputs": [
        {
          "output_type": "error",
          "ename": "SyntaxError",
          "evalue": "ignored",
          "traceback": [
            "\u001b[0;36m  File \u001b[0;32m\"<ipython-input-1-dfb72a831ac5>\"\u001b[0;36m, line \u001b[0;32m1\u001b[0m\n\u001b[0;31m    Scanner lector = new Scanner(System.in);\u001b[0m\n\u001b[0m                 ^\u001b[0m\n\u001b[0;31mSyntaxError\u001b[0m\u001b[0;31m:\u001b[0m invalid syntax\n"
          ]
        }
      ]
    }
  ]
}