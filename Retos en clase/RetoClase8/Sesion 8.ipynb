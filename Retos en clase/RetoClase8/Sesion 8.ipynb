{
  "nbformat": 4,
  "nbformat_minor": 0,
  "metadata": {
    "colab": {
      "name": "Sesion8 (1).ipynb",
      "provenance": []
    },
    "kernelspec": {
      "display_name": "Java",
      "language": "java",
      "name": "java"
    },
    "language_info": {
      "codemirror_mode": "java",
      "file_extension": ".jshell",
      "mimetype": "text/x-java-source",
      "name": "Java",
      "pygments_lexer": "java",
      "version": "11.0.8+10-LTS"
    }
  },
  "cells": [
    {
      "cell_type": "markdown",
      "metadata": {
        "id": "Fs6xTWUIk2-l",
        "outputId": "edc21c56-da32-4d39-ffc0-06fa8fe8ea75"
      },
      "source": [
        "# Introducción a Java\n",
        "\n",
        "Estos Notebooks fueron creados por profesores y diseñadores instruccionales de la Universidad del Norte, en Barranquilla - Colombia.\n",
        "\n",
        "Todos estos materiales cuentan con una licencia <b>Creative Commons</b> de libre uso con atribución.\n",
        "\n",
        "## Ejecución de Java dentro de Google Colab\n",
        "Documentar código en Java se hace con /*texto a documentar */ o // Cuando vamos a documentar una sola línea.\n",
        "\n",
        "El siguiente código debe ejecutarse en Google Colab y es necesario REFRESCAR LA PÁGINA despues de ejecutar. Para que los cambios se tengan en cuenta. Quita la documentación para ejecutar.\n"
      ]
    },
    {
      "cell_type": "code",
      "metadata": {
        "id": "qQxX5ecVQKei"
      },
      "source": [
        "!wget https://github.com/SpencerPark/IJava/releases/download/v1.3.0/ijava-1.3.0.zip\n",
        "!unzip ijava-1.3.0.zip\n",
        "!python install.py --sys-prefix"
      ],
      "execution_count": null,
      "outputs": []
    },
    {
      "cell_type": "markdown",
      "metadata": {
        "id": "6uFlYGBLk2-2"
      },
      "source": [
        "## Introducción a Programación Orientada a Objetos\n",
        "\n",
        "## Constructor\n",
        "Vamos a crear un constructor para la clase Vertebrado."
      ]
    },
    {
      "cell_type": "code",
      "metadata": {
        "id": "MDXejDtmQKe5"
      },
      "source": [
        "public class Vertebrado\n",
        "{\n",
        "   private String nombreVertebrado;  \n",
        "   public String claseVertebrado;\n",
        "    \n",
        "   // Método constructor para inicializar la variable de instancia(encapsulada)\n",
        "   public Vertebrado(String nombre)\n",
        "   {\n",
        "       nombreVertebrado = nombre;  // inicializa nombreVertebrado, ya no será null\n",
        "   }\n",
        "    \n",
        "    public void setNombreVertebrado( String nombreV) \n",
        "   {\n",
        "       nombreVertebrado = nombreV;\n",
        "   }\n",
        "   \n",
        "   // Método para recuperar el nombre del vertebrado de la variable de instancia\n",
        "   public String getNombreVertebrado()\n",
        "   {\n",
        "       return nombreVertebrado;\n",
        "   }\n",
        "} \n",
        "\n",
        "Vertebrado miVertebrado = new Vertebrado(\"Camello\"); \n",
        "\n",
        "System.out.println(miVertebrado.getNombreVertebrado() + \" es vertebrado\");"
      ],
      "execution_count": null,
      "outputs": []
    },
    {
      "cell_type": "markdown",
      "metadata": {
        "id": "Y5wCKT0gQKfK"
      },
      "source": [
        "Como ves aquí, con el constructor la variable nombre queda almacenada para la instancia miVertebrado.\n",
        "\n",
        "Los valores iniciados pasados al constructor, pueden también ser modificados posteriormente utilizando el método Set para las variables. Vamos a analizar el caso siguiente en el que creamos dos instancias de la clase Vertebrado con nombre perro y tiburón. Posteriormente, vamos a solicitar al usuario un nuevo nombre para una de las instancias."
      ]
    },
    {
      "cell_type": "code",
      "metadata": {
        "id": "YxEZcUUbQKfM"
      },
      "source": [
        " // create Scanner to obtain input from command window\n",
        "Scanner input = new Scanner( System.in );\n",
        "\n",
        "// Crea objetos vertebrado\n",
        "Vertebrado miVertebrado1 = new Vertebrado(\"perro\");\n",
        "Vertebrado miVertebrado2 = new Vertebrado(\"tiburón\");\n",
        "      \n",
        "// Imprime los valores iniciales del vertebrado de cada objeto creado\n",
        "System.out.println(\"El nombre del primer vertebrado es \" + miVertebrado1.getNombreVertebrado()); \n",
        "System.out.println(\"El nombre del segundo vertebrado es \" + miVertebrado2.getNombreVertebrado());\n",
        "System.out.println();  \n",
        "           \n",
        "// Indicador para leer el nombre del vertebrado 1\n",
        "System.out.println(\"Por favor, escriba el nuevo nombre del vertebrado 1:\");\n",
        "String nombreV = input.nextLine();  \n",
        "      \n",
        "// Establece o asigna el nombre del vertebrado 1 con el uso del método\n",
        "miVertebrado1.setNombreVertebrado(nombreV);\n",
        "    \n",
        "// Despliega la clase del vertebrado 1\n",
        "System.out.println(\"El nombre del vertebrado 1 es \" + miVertebrado1.getNombreVertebrado());\n",
        "\n",
        "System.out.println(\"El nombre del vertebrado 2 es \" + miVertebrado2.getNombreVertebrado());\n",
        "    "
      ],
      "execution_count": null,
      "outputs": []
    },
    {
      "cell_type": "markdown",
      "metadata": {
        "id": "Y5YOIWQ5QKfZ"
      },
      "source": [
        "### Actividad 1\n",
        "Modifica la clase Estudiante que generamos en la sesión anterior que tiene como atributos privados nombre, nota1, nota2 y nota3. Genera el constructor de la clase para que reciba unicamente el nombre del estudiante y lo inicialice.\n",
        "\n",
        "Genera una solución que solicite el nombre al usuario, instancie la clase Estudiante usando el constructor desarrollado e imprima el nombre almacenado."
      ]
    },
    {
      "cell_type": "code",
      "metadata": {
        "id": "b3ACrbY3QKfc"
      },
      "source": [
        "import java.util.Scanner;\n",
        "class Estudiante{\n",
        "  private String nombre;\n",
        "  private float nota1;\n",
        "  private float nota2;\n",
        "  private float nota3;\n",
        "\n",
        "  public Estudiante(String nombre){\n",
        "    this.nombre = nombre;\n",
        "  }\n",
        "\n",
        "  public String getNombre(){\n",
        "    return nombre;\n",
        "  }\n",
        "\n",
        "  public void setNombre(String nombre){\n",
        "    this.nombre = nombre;\n",
        "  }\n",
        "\n",
        "  public float getNota1(){\n",
        "    return nota1;\n",
        "  }\n",
        "\n",
        "  public void setNota1(float nota1){\n",
        "    this.nota1 = nota1;\n",
        "  }\n",
        "\n",
        "  public float getNota2(){\n",
        "    return nota1;\n",
        "  }\n",
        "\n",
        "  public void setNota2(float nota2){\n",
        "    this.nota2 = nota2;\n",
        "  }\n",
        "\n",
        "  public float getNota3(){\n",
        "    return nota1;\n",
        "  }\n",
        "\n",
        "  public void setNota3(float nota3){\n",
        "    this.nota3 = nota3;\n",
        "  }\n",
        "\n",
        "  public float calcularProm(){\n",
        "    float promedio;\n",
        "    promedio = (nota1+nota2+nota3)/3;\n",
        "    return promedio;\n",
        "  }\n",
        "}\n",
        "\n",
        "Scanner lector = new Scanner(System.in);\n",
        "\n",
        "System.out.println(\"Ingrese nombre: \");\n",
        "String nombre = lector.next();\n",
        "Estudiante nuevoEstudiante = new Estudiante(nombre);\n",
        "System.out.println(\"Ingrese nota 1: \");\n",
        "float nota1 = lector.nextFloat();\n",
        "nuevoEstudiante.setNota1(nota1);\n",
        "System.out.println(\"Ingrese nota 2: \");\n",
        "float nota2 = lector.nextFloat();\n",
        "nuevoEstudiante.setNota2(nota2);\n",
        "System.out.println(\"Ingrese nota 3: \");\n",
        "float nota3 = lector.nextFloat();\n",
        "nuevoEstudiante.setNota3(nota3);\n",
        "float prom = nuevoEstudiante.calcularProm();\n",
        "System.out.println(\"El estudiante \"+nuevoEstudiante.getNombre()+\" tiene un promedio de: \"+prom)"
      ],
      "execution_count": null,
      "outputs": []
    },
    {
      "cell_type": "markdown",
      "metadata": {
        "id": "4fFpEcDMGviF"
      },
      "source": [
        "### Actividad 2\n",
        "Definir una clase Camion que contenga los atibutos marca y modelo. Define dos constructores: uno unicamente con el atributo marca y otro con ambos. Define un metodo arrancar que imprima un mensaje que indique que el camion está arrancando. Ademas, realiza los metodos get para ambos atributos "
      ]
    },
    {
      "cell_type": "code",
      "metadata": {
        "id": "6Qefxq73Z7JI"
      },
      "source": [
        "class Camion{\n",
        "  //Atributos\n",
        "  private String marca;\n",
        "  private String modelo;\n",
        "  \n",
        "  //Constructor\n",
        "  Camion(String ma){\n",
        "    marca = ma;\n",
        "  }  \n",
        "\n",
        "  //Constructor\n",
        "  Camion(String ma, String mo){\n",
        "    marca = ma;\n",
        "    modelo = mo;\n",
        "  }  \n",
        "  \n",
        "  //Métodos\n",
        "  void arrancar(){\n",
        "    System.out.println(\"Arrancando...\");\n",
        "  }\n",
        "\n",
        "  void getMarca(){\n",
        "    System.out.println(marca);\n",
        "  }\n",
        "  \n",
        "  void getModelo(){\n",
        "    System.out.println(modelo);\n",
        "  }\n",
        "}"
      ],
      "execution_count": null,
      "outputs": []
    },
    {
      "cell_type": "markdown",
      "metadata": {
        "id": "W0ZF200YHYK5"
      },
      "source": [
        "### Actividad 3\n",
        "Calculadora de areas.\n",
        "Realiza una clase llamada calcareas que contenga 3 metodos, donde seran calculadas las areas de diferentes figuras: Triangulo, cuadrado y circulo.\n",
        "Pide al usuario la figura de la cual desea conocer su area e imprime el resultado."
      ]
    },
    {
      "cell_type": "code",
      "metadata": {
        "id": "wMQ_GmdzgK78",
        "outputId": "9675cda7-e23e-4d55-d37b-7064faa6bdc0",
        "colab": {
          "base_uri": "https://localhost:8080/"
        }
      },
      "source": [
        "class Calcareas{\n",
        "  float areaTriangulo(float b, float h){\n",
        "    return (b * h)/2;\n",
        "  }\n",
        "\n",
        "  float areaCuadrado(float l){\n",
        "    return l * l;\n",
        "  }\n",
        "\n",
        "  float areaCirculo(float r){\n",
        "    return 3.14f * r * r;\n",
        "  }\n",
        "}\n",
        "\n",
        "Scanner lector = new Scanner(System.in);\n",
        "System.out.println(\"Escoja una figura [1]Cuadrado[2]Triangulo[3]Circulo\");\n",
        "int opcion = lector.nextInt();\n",
        "Calcareas nuevaCalc = new Calcareas();\n",
        "float area;\n",
        "switch(opcion){\n",
        "  case 1: \n",
        "    System.out.println(\"Medida de su lado\");\n",
        "    float lado = lector.nextFloat();\n",
        "    area = nuevaCalc.areaCuadrado(lado);\n",
        "    System.out.println(\"Area: \"+area);\n",
        "    break;\n",
        "  case 2:\n",
        "    System.out.println(\"Medida de su base\");\n",
        "    float base = lector.nextFloat();\n",
        "    System.out.println(\"Medida de su altura\");\n",
        "    float altura = lector.nextFloat();\n",
        "    area = nuevaCalc.areaTriangulo(base,altura);\n",
        "    System.out.println(\"Area: \"+area);\n",
        "    break;\n",
        "  case 3:\n",
        "    System.out.println(\"Valor de su radio\");\n",
        "    float radio = lector.nextFloat();\n",
        "    area = nuevaCalc.areaCirculo(radio);\n",
        "    System.out.println(\"Area: \"+area);\n",
        "    break;\n",
        "\n",
        "}\n"
      ],
      "execution_count": null,
      "outputs": [
        {
          "output_type": "stream",
          "text": [
            "Escoja una figura [1]Cuadrado[2]Triangulo[3]Circulo\n",
            "3\n",
            "Valor de su radio\n",
            "4\n",
            "Area: 50.24\n"
          ],
          "name": "stdout"
        }
      ]
    }
  ]
}