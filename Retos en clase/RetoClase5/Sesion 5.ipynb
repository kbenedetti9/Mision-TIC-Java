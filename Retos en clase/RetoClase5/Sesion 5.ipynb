{
  "nbformat": 4,
  "nbformat_minor": 0,
  "metadata": {
    "colab": {
      "name": "Sesion5.ipynb",
      "provenance": [],
      "collapsed_sections": []
    },
    "kernelspec": {
      "display_name": "Java",
      "language": "java",
      "name": "java"
    },
    "language_info": {
      "codemirror_mode": "java",
      "file_extension": ".jshell",
      "mimetype": "text/x-java-source",
      "name": "Java",
      "pygments_lexer": "java",
      "version": "11.0.8+10-LTS"
    }
  },
  "cells": [
    {
      "cell_type": "markdown",
      "metadata": {
        "id": "Fs6xTWUIk2-l",
        "outputId": "edc21c56-da32-4d39-ffc0-06fa8fe8ea75"
      },
      "source": [
        "# Introducción a Java\n",
        "\n",
        "Estos Notebooks fueron creados por profesores y diseñadores instruccionales de la Universidad del Norte, en Barranquilla - Colombia.\n",
        "\n",
        "Todos estos materiales cuentan con una licencia <b>Creative Commons</b> de libre uso con atribución.\n",
        "\n",
        "## Ejecución de Java dentro de Google Colab\n",
        "Documentar código en Java se hace con /*texto a documentar */ o // Cuando vamos a documentar una sola línea.\n",
        "\n",
        "El siguiente código debe ejecutarse en Google Colab y es necesario REFRESCAR LA PÁGINA despues de ejecutar. Para que los cambios se tengan en cuenta. Quita la documentación para ejecutar.\n"
      ]
    },
    {
      "cell_type": "code",
      "metadata": {
        "id": "kZrln_nL0MLl"
      },
      "source": [
        "!wget https://github.com/SpencerPark/IJava/releases/download/v1.3.0/ijava-1.3.0.zip\n",
        "!unzip ijava-1.3.0.zip\n",
        "!python install.py --sys-prefix"
      ],
      "execution_count": null,
      "outputs": []
    },
    {
      "cell_type": "markdown",
      "metadata": {
        "id": "6uFlYGBLk2-2"
      },
      "source": [
        "## Introducción a Programación Orientada a Objetos\n",
        "\n",
        "## Clases\n",
        "Vamos primero a identificar la creación de clases en Java y su sintaxis."
      ]
    },
    {
      "cell_type": "code",
      "metadata": {
        "id": "2kNag4Bd0MLo"
      },
      "source": [
        "class Persona{\n",
        "    public String nombre;\n",
        "    public int edad;\n",
        "}"
      ],
      "execution_count": 6,
      "outputs": []
    },
    {
      "cell_type": "markdown",
      "metadata": {
        "id": "v-Y8ngW90MLr"
      },
      "source": [
        "En este caso, creamos la clase Persona con dos atributos \"nombre\" y \"edad\". \n",
        "\n",
        "Vamos ahora a generar una instancia de esta clase persona y a acceder sus atributos"
      ]
    },
    {
      "cell_type": "code",
      "metadata": {
        "id": "y3SBm6eH0MLr",
        "outputId": "c9bea058-64ea-4cd2-cc7c-bda5d99f07dd"
      },
      "source": [
        "Persona miPersona = new Persona();\n",
        "miPersona.nombre = \"Pedro\";\n",
        "miPersona.edad = 20;\n",
        "\n",
        "System.out.println(miPersona.nombre + \" tiene \" + miPersona.edad + \" años\")"
      ],
      "execution_count": null,
      "outputs": [
        {
          "output_type": "stream",
          "text": [
            "Bienvenidos a la clase Vertebrados\n",
            "\n"
          ],
          "name": "stdout"
        }
      ]
    },
    {
      "cell_type": "markdown",
      "metadata": {
        "id": "WZUAr9C40MLu"
      },
      "source": [
        "Hemos creado entonces nuestra primera clase y nuestra primera instancia de esa clase en Java. Vemos que desde la instancia miPersona, podemos acceder a los atributos nombre y edad de la clase Persona.\n",
        "\n",
        "Esto es posible porque por defecto, los atributos de Java son accesibles para todo lo definido dentro de la clase y para otros miembros dentro del mismo \"paquete\". Como es el caso de este Jupyter Notebook. La definición de paquetes será trabajada más adelante. \n",
        "\n",
        "Si se quiere modificar, Java permite definir el acceso de las variables, métodos y clases. Para ello se definen, entre otros, principalmente:\n",
        "   \n",
        "   1. Public - Quiere decir que la entidad definida es accesible dentro y fuera de la clase e incluso por clases fuera del \"paquete\".\n",
        "   2. Private - Quiere decir que la entidad definida es accesible unicamente dentro de la clase.\n",
        "   \n",
        "Miremos la diferencia con la clase persona!"
      ]
    },
    {
      "cell_type": "code",
      "metadata": {
        "id": "TZaW2cKA0MLu"
      },
      "source": [
        "class Persona\n",
        "{\n",
        "    private String nombre;\n",
        "    private int edad;\n",
        "}\n",
        "\n",
        "Persona miPersona = new Persona();\n",
        "miPersona.nombre = \"Maria\";\n",
        "miPersona.edad = 10;\n",
        "\n",
        "System.out.println(miPersona.nombre + \" tiene \" + miPersona.edad + \" años\")"
      ],
      "execution_count": null,
      "outputs": []
    },
    {
      "cell_type": "markdown",
      "metadata": {
        "id": "1MW_y-Cc0MLx"
      },
      "source": [
        "Como vemos, ya no es posible acceder nombre por fuera de la clase. Ahora veamos con public."
      ]
    },
    {
      "cell_type": "code",
      "metadata": {
        "id": "-ivfv77P0MLy"
      },
      "source": [
        "class Persona\n",
        "{\n",
        "    public String nombre;\n",
        "    public int edad;\n",
        "}\n",
        "\n",
        "Persona miPersona = new Persona();\n",
        "miPersona.nombre = \"Jose\";\n",
        "miPersona.edad = 22;\n",
        "\n",
        "System.out.println(miPersona.nombre + \" tiene \" + miPersona.edad + \" años\");"
      ],
      "execution_count": null,
      "outputs": []
    },
    {
      "cell_type": "markdown",
      "metadata": {
        "id": "KgrF6kR10ML1"
      },
      "source": [
        "Por ahora, vamos a manejar las variables como públicas!\n",
        "\n",
        "### Actividad 1\n",
        "Construye ahora una clase Empleado que tenga como atributos codigo, nombre, cargo y salario. Luego, crea una instancia de la clase y solicita al usuario los datos del empleado. \n",
        "\n",
        "Finalmente, imprime una línea <br>\n",
        "< nombreEmpleado > con código de empleado < codigo > tiene el cargo de < cargo > y gana $ < salario > mensualmente\n",
        "\n",
        "\"Juan Perez con código de empleado 4930 tiene el cargo de Gerente General y gana $10.000.000 mensualmente\""
      ]
    },
    {
      "cell_type": "code",
      "metadata": {
        "id": "6j7Q_0-x0ML1"
      },
      "source": [
        "import java.util.Scanner;\n",
        "\n",
        "class Empleado{\n",
        "    public String codigo;\n",
        "    public String nombre;\n",
        "    public String cargo;\n",
        "    public double salario;\n",
        "}\n",
        "\n",
        "Scanner lector = new Scanner(System.in);\n",
        "String codigo,nombre,cargo;\n",
        "double salario;\n",
        "\n",
        "System.out.println(\"Ingrese el codigo del empleado\");\n",
        "codigo = lector.next();\n",
        "System.out.println(\"Ingrese el nombre del empleado\");\n",
        "nombre = lector.next();\n",
        "System.out.println(\"Ingrese el cargo del empleado\");\n",
        "cargo = lector.next();\n",
        "System.out.println(\"Ingrese el salario del empleado\");\n",
        "salario = lector.nextDouble();\n",
        "Empleado nuevoEmpleado = new Empleado();\n",
        "nuevoEmpleado.codigo = codigo;\n",
        "nuevoEmpleado.nombre = nombre;\n",
        "nuevoEmpleado.cargo = cargo;\n",
        "nuevoEmpleado.salario = salario;\n",
        "System.out.println(nuevoEmpleado.nombre + \" con codigo de empleado \" + nuevoEmpleado.codigo + \" tiene el cargo de \"+nuevoEmpleado.cargo+\" y gana \"+nuevoEmpleado.salario+\" salario\");"
      ],
      "execution_count": null,
      "outputs": []
    },
    {
      "cell_type": "markdown",
      "metadata": {
        "id": "ZnwZwuj30ML4"
      },
      "source": [
        "### Actividad 2\n",
        "En una biblioteca se lleva el registro de los libros que se encuentran en existencia, para apoyarlos usted debe proponer una clase que contenga la información sobre el título, el autor, la cantidad de ejemplares existentes, la temática tratada y un resumen del contenido. \n",
        "\n",
        "Para comprobar la funcionalidad de la clase, solicite al usuario la información de un par de libros de la biblioteca e indique cuál de ellos tiene más existencias en el inventario. "
      ]
    },
    {
      "cell_type": "code",
      "metadata": {
        "id": "IzzW-eyA0ML4",
        "outputId": "7b65d205-f0b4-4564-acb8-df709c13b72d",
        "colab": {
          "base_uri": "https://localhost:8080/",
          "height": 35
        }
      },
      "source": [
        "import java.util.Scanner;\n",
        "\n",
        "class Libro{\n",
        "  public String titulo;\n",
        "  public String autor;\n",
        "  public int ejemplares;\n",
        "  public String tematica;\n",
        "  public String resumen;\n",
        "}\n",
        "\n",
        "Scanner lector = new Scanner(System.in);\n",
        "\n",
        "Libro nuevoLibro = new Libro();\n",
        "nuevoLibro.titulo = \"hola\";\n",
        "nuevoLibro.autor = \"Juan Perez\";\n",
        "nuevoLibro.ejemplares = 3;\n",
        "nuevoLibro.tematica = \"Infantil\";\n",
        "nuevoLibro.resumen = \"Hola hola\";\n",
        "\n",
        "Libro nuevoLibro1 = new Libro();\n",
        "nuevoLibro1.titulo = \"buenas\";\n",
        "nuevoLibro1.autor = \"Antonio Perez\";\n",
        "nuevoLibro1.ejemplares = 6;\n",
        "nuevoLibro1.tematica = \"Infantil\";\n",
        "nuevoLibro1.resumen = \"Hola hola\";\n",
        "\n",
        "Libro[] vectorLibro = {nuevoLibro,nuevoLibro1};\n",
        "String nombre;\n",
        "int mayor =0;\n",
        "int posicion;\n",
        "\n",
        "for(int i=0;i<2;i++){\n",
        "  if(mayor<vectorLibro[i].ejemplares){\n",
        "    mayor= vectorLibro[i].ejemplares;\n",
        "    posicion = i;\n",
        "  }\n",
        "}\n",
        "\n",
        "System.out.println(\"El libro con mayor numero de ejemplares es: \"+vectorLibro[posicion].titulo);"
      ],
      "execution_count": 155,
      "outputs": [
        {
          "output_type": "stream",
          "text": [
            "El libro con mayor numero de ejemplares es: buenas\n"
          ],
          "name": "stdout"
        }
      ]
    }
  ]
}