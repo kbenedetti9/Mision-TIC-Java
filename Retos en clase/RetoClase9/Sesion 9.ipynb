{
  "nbformat": 4,
  "nbformat_minor": 0,
  "metadata": {
    "colab": {
      "name": "Sesion9 (1).ipynb",
      "provenance": [],
      "collapsed_sections": []
    },
    "kernelspec": {
      "display_name": "Java",
      "language": "java",
      "name": "java"
    },
    "language_info": {
      "codemirror_mode": "java",
      "file_extension": ".jshell",
      "mimetype": "text/x-java-source",
      "name": "Java",
      "pygments_lexer": "java",
      "version": "11.0.8+10-LTS"
    }
  },
  "cells": [
    {
      "cell_type": "markdown",
      "metadata": {
        "id": "Fs6xTWUIk2-l",
        "outputId": "edc21c56-da32-4d39-ffc0-06fa8fe8ea75"
      },
      "source": [
        "# Introducción a Java\n",
        "\n",
        "Estos Notebooks fueron creados por profesores y diseñadores instruccionales de la Universidad del Norte, en Barranquilla - Colombia.\n",
        "\n",
        "Todos estos materiales cuentan con una licencia <b>Creative Commons</b> de libre uso con atribución.\n",
        "\n",
        "## Ejecución de Java dentro de Google Colab\n",
        "Documentar código en Java se hace con /*texto a documentar */ o // Cuando vamos a documentar una sola línea.\n",
        "\n",
        "El siguiente código debe ejecutarse en Google Colab y es necesario REFRESCAR LA PÁGINA despues de ejecutar. Para que los cambios se tengan en cuenta. Quita la documentación para ejecutar.\n"
      ]
    },
    {
      "cell_type": "code",
      "metadata": {
        "id": "bouKx5g9wSiJ"
      },
      "source": [
        "!wget https://github.com/SpencerPark/IJava/releases/download/v1.3.0/ijava-1.3.0.zip\n",
        "!unzip ijava-1.3.0.zip\n",
        "!python install.py --sys-prefix"
      ],
      "execution_count": null,
      "outputs": []
    },
    {
      "cell_type": "markdown",
      "metadata": {
        "id": "6uFlYGBLk2-2"
      },
      "source": [
        "## Variables y métodos estáticos\n",
        "Ya sabemos que las variables y métodos estáticos se aplican a la clase en la que están declarados como un todo y no son dependientes o diferentes en las instancias de la clase. \n",
        "\n",
        "Veamos un ejemplo sencillo. "
      ]
    },
    {
      "cell_type": "code",
      "metadata": {
        "id": "07e7UcsHwSiO",
        "outputId": "a0cf4cd4-dd47-4866-d94a-38e67f2970ef"
      },
      "source": [
        "class globales\n",
        " {\n",
        "     private static float iva = 19;\n",
        "     public static final float salarioBasico = 877802;\n",
        "     public static final float auxilioTransporte = 102853;\n",
        "}\n",
        "\n",
        "System.out.println(\"El salario básico sin usar mi instancia es: $ \" + globales.salarioBasico);\n",
        "\n",
        "globales miInstancia = new globales();\n",
        "System.out.println(\"El salario básico de la instancia es: $ \" + miInstancia.salarioBasico);"
      ],
      "execution_count": null,
      "outputs": [
        {
          "output_type": "stream",
          "text": [
            "El salario básico sin usar mi instancia es: $ 877802.0\n",
            "El salario básico de la instancia es: $ 877802.0\n"
          ],
          "name": "stdout"
        }
      ]
    },
    {
      "cell_type": "markdown",
      "metadata": {
        "id": "lcdFm4nYwSiR"
      },
      "source": [
        "Como vemos no es necesario crear una instancia de la clase globales para hacer el llamado al atributo salarioBasico. Este puede realizarse bien sea referenciando la variable usando el nombre de la clase o el nombre de la instancia.\n",
        "\n",
        "Y si quisieramos cambiar el valor para la clase?"
      ]
    },
    {
      "cell_type": "code",
      "metadata": {
        "id": "0W3OYYe4wSiS"
      },
      "source": [
        "class globales\n",
        " {\n",
        "     private static float iva = 19;\n",
        "     public static final float salarioBasico = 877802;\n",
        "     public static float auxilioTransporte = 102853 ;\n",
        "}\n",
        "\n",
        "globales.auxilioTransporte = 105000;\n",
        "\n",
        "System.out.println(\"El Auxilio de Transporte en el objeto es: $ \" + globales.auxilioTransporte);\n",
        "\n",
        "System.out.println(\"El Auxilio de Transporte en la instancia es: $ \" + miInstancia.auxilioTransporte);\n"
      ],
      "execution_count": null,
      "outputs": []
    },
    {
      "cell_type": "markdown",
      "metadata": {
        "id": "kbU4MQ3wwSiW"
      },
      "source": [
        "Aquí vemos que aunque no hagamos cambios en la instancia miInstancia, una vez la variable estática es modificada, la modificación aplica para todas las instancias de esa clase.\n",
        "\n",
        "Ahora, realiza tú la misma operación con la variable salarioBasico. Modíficala para que quede igual a 1000000."
      ]
    },
    {
      "cell_type": "code",
      "metadata": {
        "id": "zqWlx9ufjTXb"
      },
      "source": [
        ""
      ],
      "execution_count": null,
      "outputs": []
    },
    {
      "cell_type": "markdown",
      "metadata": {
        "id": "RzGg-AY9wSia"
      },
      "source": [
        "Como puedes ver, la modificación de la variable no se puede realizar porque además de ser estática, tiene la palabra final. Recordemos que esta connotación indica que el valor de la variable es constante y no puede ser modificado! \n",
        "\n",
        "Qué pasa entonces con la variable privada iva? "
      ]
    },
    {
      "cell_type": "code",
      "metadata": {
        "id": "Y4Gsv-79wSia",
        "outputId": "71bc05ee-ac80-4f36-ed6d-8ab825d4f0ae"
      },
      "source": [
        "System.out.printf(\"El IVA es del: \"+ globales.iva + \"%\"); "
      ],
      "execution_count": null,
      "outputs": [
        {
          "output_type": "error",
          "ename": "CompilationException",
          "evalue": "",
          "traceback": [
            "\u001b[1m\u001b[30m|   \u001b[1m\u001b[30mSystem.out.printf(\"El IVA es del: \"+ \u001b[0m\u001b[1m\u001b[30m\u001b[41mglobales.iva\u001b[0m\u001b[1m\u001b[30m + \"%\"); \u001b[0m",
            "\u001b[1m\u001b[31miva has private access in globales\u001b[0m",
            ""
          ]
        }
      ]
    },
    {
      "cell_type": "markdown",
      "metadata": {
        "id": "7gWClYhmwSid"
      },
      "source": [
        "El prinicipio de encapsulamiento sigue vigente aunque la variable sea estática. Esto quiere decir que para acceder a su valor debemos crear un método Get."
      ]
    },
    {
      "cell_type": "code",
      "metadata": {
        "id": "Hm6wrMHRwSie",
        "outputId": "da5a9795-c304-4d08-9f60-ff7370a7bc34"
      },
      "source": [
        "class globales\n",
        " {\n",
        "    private static float iva = 19;\n",
        "    public static final float salarioBasico = 877802;\n",
        "    public static float auxilioTransporte = 102853 ;\n",
        "    \n",
        "    public static float getIva()\n",
        "     {\n",
        "         return iva;\n",
        "     }\n",
        "}\n",
        "System.out.println(\"El IVA es del: \"+ globales.getIva() + \"%\"); "
      ],
      "execution_count": null,
      "outputs": [
        {
          "output_type": "stream",
          "text": [
            "El IVA es del: 19.0%\n"
          ],
          "name": "stdout"
        }
      ]
    },
    {
      "cell_type": "markdown",
      "metadata": {
        "id": "JAwPCwFgwSih"
      },
      "source": [
        "El método getIva() nos da acceso a la variable estática iva. Ten presente que el método también debe ser definido como estático para poder referenciar a una variable estática. Puedes probar eliminando \"static\" en la definición del método y mirando el error.\n",
        "\n",
        "## Actividad 1\n",
        "En la empresa Cargas Varias, se le otorga a un empleado subsidio de transporte si su salario es menor a dos salarios básicos. Usando la clase globales, modificala para crear un método dentro de la clase llamado derechoTransporte que reciba como parámetro un salario y retorne un booleano; True si el empleado requiere subsidio de transporte o False si no lo requiere."
      ]
    },
    {
      "cell_type": "code",
      "metadata": {
        "id": "s-k5boNMwSii",
        "colab": {
          "base_uri": "https://localhost:8080/"
        },
        "outputId": "c5f75ea2-8c22-4705-c4bf-5b84921b86a7"
      },
      "source": [
        "class globales\n",
        " {\n",
        "     private static float iva = 19;\n",
        "     public static final float salarioBasico = 877802;\n",
        "     public static float auxilioTransporte = 102853 ;\n",
        "\n",
        "     public static float getIVA()\n",
        "     {\n",
        "         return iva;\n",
        "     }\n",
        "\n",
        "     public static boolean derechoTransporte(float salario){\n",
        "       boolean recibeSubsidio=false;\n",
        "        if(salario<salarioBasico*2){\n",
        "          recibeSubsidio = true;\n",
        "        }else{\n",
        "          recibeSubsidio = false;\n",
        "        }\n",
        "      return recibeSubsidio;\n",
        "     }\n",
        "\n",
        " }\n",
        "\n",
        "//Con estas líneas puedes probar tu código\n",
        "Boolean subsidio = globales.derechoTransporte(500000);\n",
        "System.out.println(\"Require subsidio: \" + subsidio);"
      ],
      "execution_count": 15,
      "outputs": [
        {
          "output_type": "stream",
          "text": [
            "Require subsidio: true\n"
          ],
          "name": "stdout"
        }
      ]
    },
    {
      "cell_type": "markdown",
      "metadata": {
        "id": "eyuevMd-wSil"
      },
      "source": [
        "## This\n",
        "Para comprender el funcionamiento de this, vamos a comenzar definiendo una clase Persona con el atributo privado nombre y un constructor que recibe un parámetro con el mismo nombre de la variable."
      ]
    },
    {
      "cell_type": "code",
      "metadata": {
        "id": "otADoK62wSim",
        "outputId": "5a3d5a70-d001-412a-9489-fb87a83e2b0d"
      },
      "source": [
        "public class Persona\n",
        "{\n",
        "   private String nombre; \n",
        "   \n",
        "    // Método constructor para inicializar la variable de instancia(encapsulada) usando this.\n",
        "   public Persona(String nombre)\n",
        "   {   \n",
        "       // Inicializa todas las variables.\n",
        "       nombre = nombre; \n",
        "     \n",
        "   }\n",
        " \n",
        "   // Métodos para establecer las variables\n",
        "   public void setNombre( String nombre) \n",
        "   {\n",
        "       this.nombre = nombre;\n",
        "   }  \n",
        "   // Métodos para recuperar las variables\n",
        "   public String getNombre()\n",
        "   {\n",
        "       return nombre;\n",
        "   }\n",
        " \n",
        "}\n",
        "Persona p = new Persona(\"Maria\");\n",
        "System.out.println(\"La persona se llama \"+ p.getNombre());"
      ],
      "execution_count": null,
      "outputs": [
        {
          "output_type": "stream",
          "text": [
            "La persona se llama null\n"
          ],
          "name": "stdout"
        }
      ]
    },
    {
      "cell_type": "markdown",
      "metadata": {
        "id": "RbC2Dcq_wSip"
      },
      "source": [
        "Efectivamente en este caso nos retorna null porque el constructor no está diferenciando entre la variable de la clase y el parámetro de entrada. Vamos a modificar nuestra clase para usar this."
      ]
    },
    {
      "cell_type": "code",
      "metadata": {
        "id": "r01sxI4iwSiq",
        "outputId": "a9aee8a0-9970-4e34-95a9-8a4fbdf155ac"
      },
      "source": [
        "public class Persona\n",
        "{\n",
        "   private String nombre; \n",
        "   \n",
        "    // Método constructor para inicializar la variable de instancia(encapsulada) usando this.\n",
        "   public Persona(String nombre)\n",
        "   {   \n",
        "       // Inicializa todas las variables.\n",
        "       this.nombre = nombre; \n",
        "     \n",
        "   }\n",
        " \n",
        "   // Métodos para establecer las variables\n",
        "   public void setNombre( String nombre) \n",
        "   {\n",
        "       this.nombre = nombre;\n",
        "   }  \n",
        "   // Métodos para recuperar las variables\n",
        "   public String getNombre()\n",
        "   {\n",
        "       return nombre;\n",
        "   }\n",
        " \n",
        "}\n",
        "Persona p = new Persona(\"Maria\");\n",
        "System.out.println(\"La persona se llama \"+ p.getNombre());"
      ],
      "execution_count": null,
      "outputs": [
        {
          "output_type": "stream",
          "text": [
            "La persona se llama Maria\n"
          ],
          "name": "stdout"
        }
      ]
    },
    {
      "cell_type": "markdown",
      "metadata": {
        "id": "lNDFzyFfwSit"
      },
      "source": [
        "Así vemos entonces la necesidad de usar this para referenciar el atributo de la clase.\n",
        "\n",
        "### Actividad 2\n",
        "Modifica la clase Vertebrado utlizando las siguientes variables. Modifica el constructor utilizando this y define los métodos get y set para todas las variables. "
      ]
    },
    {
      "cell_type": "code",
      "metadata": {
        "id": "rGZpqugAwSiu"
      },
      "source": [
        "public class Vertebrado\n",
        "{\n",
        "   private String nombre, extremidades, cubierta, desplazar, respirar;\n",
        "   private double temperatura;\n",
        "   public String claseVertebrado; \n",
        "    \n",
        "  public Vertebrado(String nombre, String extremidades, String cubierta, String desplazar,\n",
        "                     String respirar)\n",
        "   {   \n",
        "       this.nombre = nombre;\n",
        "       this.extremidades = extremidades;\n",
        "       this.cubierta = cubierta;\n",
        "       this.desplazar = desplazar;\n",
        "       this.respirar = respirar;\n",
        "        \n",
        "   }\n",
        " \n",
        "   // Métodos para establecer las variables  del vertebrado setXXX\n",
        "   public void setNombre(String nombre){\n",
        "     this.nombre = nombre;\n",
        "   }\n",
        "\n",
        "   public void setExtremidades(String extremidades){\n",
        "     this.extremidades = extremidades;\n",
        "   }\n",
        "\n",
        "   public void setCubierta(String cubierta){\n",
        "     this.cubierta = cubierta;\n",
        "   }\n",
        "\n",
        "   public void setDesplazar(String desplazar){\n",
        "     this.desplazar = desplazar;\n",
        "   }\n",
        "\n",
        "   public void setRespirar(String respirar){\n",
        "     this.respirar = respirar;\n",
        "   }\n",
        "\n",
        "   public void setTemperatura(double temperatura){\n",
        "     this.temperatura = temperatura;\n",
        "   }\n",
        "\n",
        "\n",
        "\n",
        "   // Métodos para recuperar las variables del vertebrado getXXX\n",
        "    public String getNombre(){\n",
        "     return nombre;\n",
        "   }\n",
        "\n",
        "   public String getExtremidades(){\n",
        "     return extremidades;\n",
        "   }\n",
        "\n",
        "   public String getCubierta(){\n",
        "     return cubierta;\n",
        "   }\n",
        "\n",
        "   public String getDesplazar(){\n",
        "     return desplazar;\n",
        "   }\n",
        "\n",
        "   public String getRespirar(){\n",
        "     return respirar;\n",
        "   }\n",
        "\n",
        "   public double getTemperatura(){\n",
        "     return temperatura;\n",
        "   }\n",
        "}"
      ],
      "execution_count": 46,
      "outputs": []
    },
    {
      "cell_type": "markdown",
      "metadata": {
        "id": "gqNWbAcewSix"
      },
      "source": [
        "## Cast\n",
        "Ya hemos trabajado haciendo cambio de tipo de dato a ciertas variables pero ahora vamos a analizar el cast o cambio automático de tipo a una variable. Volvamos a la clase Persona primero."
      ]
    },
    {
      "cell_type": "code",
      "metadata": {
        "id": "XdkS_xMrwSiy",
        "outputId": "1bc66cc5-184b-41d9-be0b-071018d1d24a"
      },
      "source": [
        "public class Persona\n",
        "{\n",
        "   private String nombre;\n",
        "   private double peso;\n",
        "   \n",
        "    // Método constructor para inicializar la variable de instancia(encapsulada) usando this.\n",
        "   public Persona(String nombre, double peso)\n",
        "   {   \n",
        "       // Inicializa todas las variables.\n",
        "       this.nombre = nombre; \n",
        "       this.peso = peso;\n",
        "     \n",
        "   }\n",
        " \n",
        "   // Métodos para establecer las variables  del vertebrado\n",
        "   public void setNombre( String nombre) \n",
        "   {\n",
        "       this.nombre = nombre;\n",
        "   }\n",
        "    public void setPeso( double peso) \n",
        "   {\n",
        "       this.peso = peso;\n",
        "   }\n",
        "   // Métodos para recuperar las variables del vertebrado\n",
        "   public String getNombre()\n",
        "   {\n",
        "       return nombre;\n",
        "   }\n",
        "    public double getPeso()\n",
        "   {\n",
        "       return peso;\n",
        "   }\n",
        " \n",
        "}\n",
        "Persona p = new Persona(\"Maria\",60.8);\n",
        "System.out.println(\"La persona se llama \"+ p.getNombre());\n",
        "System.out.println(\"El peso (real) \"+ p.getPeso());\n",
        "System.out.println(\"El peso (entero) \"+ (int)p.getPeso()); //Aquí se hace el cast a entero"
      ],
      "execution_count": null,
      "outputs": [
        {
          "output_type": "stream",
          "text": [
            "La persona se llama Maria\n",
            "El peso (real) 60.8\n",
            "El peso (entero) 60\n"
          ],
          "name": "stdout"
        }
      ]
    },
    {
      "cell_type": "markdown",
      "metadata": {
        "id": "1ecVrXniwSi2"
      },
      "source": [
        "La variable peso es definida como double pero en la segunda impresión hacemos el cast a entero y vemos la diferencia al momento de la impresión."
      ]
    },
    {
      "cell_type": "markdown",
      "metadata": {
        "id": "mb8wMXGcwSi3"
      },
      "source": [
        "### Actividad 3\n",
        "Finalmente, usando la clase Vertebrado que definiste arriba, imprime la información del vertebrado presentado en el código. Imprime la temperatura como real y luego haciéndole un cast a entero. "
      ]
    },
    {
      "cell_type": "code",
      "metadata": {
        "id": "_3B575YrwSi4",
        "colab": {
          "base_uri": "https://localhost:8080/"
        },
        "outputId": "8498986a-9426-49a6-dd02-813da9f39050"
      },
      "source": [
        "Vertebrado miVertebrado1 = new Vertebrado(\"perro\",\"patas\", \"pelo\", \n",
        "                                                \"caminando\",\"pulmones\");\n",
        "miVertebrado1.setTemperatura(39.5);\n",
        "\n",
        "System.out.println(\"El nombre del vertebrado es \"+miVertebrado1.getNombre()+\"Tiene \"+miVertebrado1.getExtremidades()+\" para desplazarse. Se desplaza \"+miVertebrado1.getDesplazar()+\". Está cubierto de \"+miVertebrado1.getCubierta()+\".Respira a través de \"+miVertebrado1.getRespirar());//Escribe aqui tu código para imprimir los valore de miVertebrado1 y la temperatura como real y como entero.\n",
        "System.out.println(\"Temperatura promedio es (C) \"+miVertebrado1.getTemperatura());\n",
        "System.out.println(\"Temperatura promedio es (C) \"+(int)miVertebrado1.getTemperatura());"
      ],
      "execution_count": 57,
      "outputs": [
        {
          "output_type": "stream",
          "text": [
            "El nombre del vertebrado es perroTiene patas para desplazarse. Se desplaza caminando. Está cubierto de pelo.Respira a través de pulmones\n",
            "Temperatura promedio es (C) 39.5\n",
            "Temperatura promedio es (C) 39.532\n",
            "Temperatura promedio es (C) 39\n"
          ],
          "name": "stdout"
        }
      ]
    }
  ]
}